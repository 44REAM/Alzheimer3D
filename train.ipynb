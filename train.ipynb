{
 "cells": [
  {
   "cell_type": "code",
   "execution_count": 1,
   "id": "63156201-da8c-4060-add3-8e2c22ed1fdd",
   "metadata": {},
   "outputs": [],
   "source": [
    "import os\n",
    "import random\n",
    "\n",
    "import numpy as np\n",
    "import matplotlib.pyplot as plt\n",
    "import seaborn as sns\n",
    "import pandas as pd\n",
    "import SimpleITK as sitk\n",
    "from sklearn.model_selection import train_test_split\n",
    "from torch.utils.tensorboard import SummaryWriter\n",
    "import torch\n",
    "import torch.nn as nn\n",
    "import monai.transforms as monai_transforms\n",
    "\n",
    "from dataset import MRIDataset, get_loader\n",
    "from models import C3D, generate_model, ResNet\n",
    "from train import epoch_iter, add_metrics, save_checkpoint, get_metrics"
   ]
  },
  {
   "attachments": {},
   "cell_type": "markdown",
   "id": "429b585d",
   "metadata": {},
   "source": [
    "# Preprocessing"
   ]
  },
  {
   "cell_type": "code",
   "execution_count": 2,
   "id": "cad9f556-3315-4eb0-ab9d-9944a3c717c5",
   "metadata": {},
   "outputs": [],
   "source": [
    "\"/data1/TBM/data_for_AI/data/spatial_normalized_pt_1/\"\n",
    "basepath = \"/data1/TBM/data_for_AI/data/realigned_pt/\"\n",
    "csvpath = '/data1/TBM/data_for_AI/subjects_info/final_TBM_subjects_info.csv'\n",
    "\n",
    "form = 'process'\n",
    "\n",
    "# use for raw file\n",
    "modality = \"T2s\"\n",
    "use_file = \"R2S.nii\"\n",
    "\n",
    "# use for process file\n",
    "prefix = 'r'\n",
    "suffix = '_fdt_paths.nii'\n",
    "\n",
    "random_state = 65489132\n",
    "torch.manual_seed(random_state)\n",
    "random.seed(random_state)\n",
    "np.random.seed(random_state)"
   ]
  },
  {
   "cell_type": "code",
   "execution_count": 3,
   "id": "3aaf1a0a-98aa-4011-9fe8-8cf6ecdffcfc",
   "metadata": {},
   "outputs": [
    {
     "name": "stdout",
     "output_type": "stream",
     "text": [
      "normal_0766\n",
      "normal_0768\n",
      "normal_0769\n",
      "mci_0116\n",
      "mci_0120\n"
     ]
    }
   ],
   "source": [
    "df_data = pd.read_csv(csvpath)\n",
    "\n",
    "filenames = []\n",
    "labels_data = []\n",
    "\n",
    "mean_data = []\n",
    "var_data = []\n",
    "\n",
    "def get_path_and_label(name, label, form = 'raw', prefix = 'wr', suffix = '_fdt_paths.nii'):\n",
    "    \n",
    "    if form == 'raw':\n",
    "        if label.lower() == 'mci':\n",
    "            category = 1\n",
    "            fdt_paths_path = os.path.join(basepath, 'MCI',name, modality, use_file)\n",
    "        elif label.lower() == 'normal':\n",
    "            category = 0\n",
    "            fdt_paths_path = os.path.join(basepath, 'Normal',name, modality, use_file)\n",
    "        elif label.lower() == 'mmd':\n",
    "            category = 2\n",
    "            fdt_paths_path = os.path.join(basepath, 'AD',name, modality, use_file)\n",
    "        else:\n",
    "            raise ValueError(f\"No label name {label}\")\n",
    "\n",
    "    else:\n",
    "        if label.lower() == 'mci':\n",
    "            category = 1\n",
    "        elif label.lower() == 'normal':\n",
    "            category = 0\n",
    "\n",
    "        elif label.lower() == 'mmd':\n",
    "            category = 2\n",
    "        else:\n",
    "            raise ValueError(f\"No label name {label}\")\n",
    "        fdt_paths_path = os.path.join(basepath, prefix + name + suffix)\n",
    "    return fdt_paths_path, category\n",
    "\n",
    "\n",
    "first_shape_flag = False\n",
    "first_shape = (0,0,0)\n",
    "\n",
    "for name, label in zip(df_data.label_id, df_data['label']):\n",
    "\n",
    "    fdt_paths_path, category = get_path_and_label(name, label, form = form, prefix = prefix, suffix = suffix)\n",
    "        \n",
    "\n",
    "    try:\n",
    "        img = sitk.ReadImage(fdt_paths_path)\n",
    "        img_array = sitk.GetArrayFromImage( img)\n",
    "\n",
    "        if not first_shape_flag:\n",
    "            first_shape = img_array.shape\n",
    "            first_shape_flag = True\n",
    "\n",
    "        elif img_array.shape[0] != first_shape[0] or img_array.shape[1] != first_shape[1] or img_array.shape[2] != first_shape[2]:\n",
    "            print(img_array.shape)\n",
    "            continue\n",
    "    except:\n",
    "        print(name)\n",
    "        continue\n",
    "\n",
    "    labels_data.append(category)\n",
    "    filenames.append(fdt_paths_path)\n",
    "    \n",
    "    mean_img_array = img_array[img_array>0].mean()\n",
    "    var_img_array = img_array[img_array>0].var()\n",
    "    \n",
    "    mean_data.append(mean_img_array)\n",
    "    var_data.append(var_img_array)\n",
    "    \n",
    "assert len(labels_data) == len(filenames)\n",
    "\n",
    "mean_data = np.mean(mean_data)\n",
    "std_data = np.sqrt(np.mean(var_data))\n",
    "\n",
    "batch_size = 8\n",
    "img_size = 64\n",
    "test_size = 0.1\n",
    "val_size = 0.2\n",
    "val_size = val_size/(1-test_size)\n",
    "\n",
    "\n",
    "x_train, x_test, y_train,  y_test = train_test_split(filenames, labels_data,  test_size= test_size, random_state=random_state)\n",
    "x_train, x_val, y_train,  y_val = train_test_split(x_train, y_train,  test_size= val_size, random_state=random_state)\n",
    "\n",
    "def get_transform(mean, std, mode= 'train'):\n",
    "    transforms_list = []\n",
    "    \n",
    "    def standard(img):\n",
    "        return (img - mean)/std\n",
    "    if mode == 'train':\n",
    "        # transforms_list.append(monai_transforms.RandRotate90(prob = 0.3))\n",
    "        transforms_list.append(\n",
    "            monai_transforms.RandGaussianSmooth(\n",
    "            sigma_x=(0.1, 0.5), \n",
    "            sigma_y=(0.1, 0.5), \n",
    "            sigma_z=(0.1, 0.5), prob=0.3))\n",
    "        transforms_list.append(monai_transforms.RandAffine(prob = 0.3, translate_range  =[(-2,2), (-2,2), (-2,2)], padding_mode  = 'zeros'))\n",
    "\n",
    "\n",
    "    transforms_list.append(torch.Tensor)\n",
    "    transforms_list.append(standard)\n",
    "    return monai_transforms.Compose(transforms_list)\n",
    "\n",
    "train_transform = get_transform(mean_data, std_data, mode = 'train')\n",
    "val_transform = get_transform(mean_data, std_data, mode = 'val')\n",
    "\n",
    "train_loader = get_loader(x_train, y_train, train_transform, mode = 'train', batch_size =batch_size, img_size = img_size)\n",
    "val_loader = get_loader(x_val, y_val,val_transform, mode = 'val', batch_size =batch_size, img_size = img_size)\n",
    "test_loader = get_loader(x_test, y_test,val_transform, mode = 'test', batch_size =batch_size, img_size = img_size)\n"
   ]
  },
  {
   "attachments": {},
   "cell_type": "markdown",
   "id": "59b887fe",
   "metadata": {},
   "source": [
    "# Train"
   ]
  },
  {
   "cell_type": "code",
   "execution_count": 13,
   "id": "3668a885",
   "metadata": {},
   "outputs": [],
   "source": [
    "\n",
    "device = torch.device('cuda' if torch.cuda.is_available() else 'cpu')\n",
    "\n",
    "model = generate_model(10, [64, 128, 256, 512], n_input_channels = 1,conv1_t_size = 5, conv1_t_stride=1, n_classes = 2)\n",
    "# model = C3D(num_classes = 2)\n",
    "model = model.to(device)\n",
    "\n",
    "loss_function = nn.CrossEntropyLoss()\n",
    "\n",
    "\n",
    "optimizer = torch.optim.Adam(model.parameters(), lr = 1e-4)\n",
    "# optimizer = torch.optim.SGD(model.parameters(), lr = 1e-3)\n"
   ]
  },
  {
   "cell_type": "code",
   "execution_count": 15,
   "id": "d9c9b272-7973-4847-8824-0f0f88d3a839",
   "metadata": {},
   "outputs": [
    {
     "name": "stdout",
     "output_type": "stream",
     "text": [
      "**************train*************\n"
     ]
    },
    {
     "name": "stderr",
     "output_type": "stream",
     "text": [
      "100%|██████████| 85/85 [00:18<00:00,  4.67it/s]\n"
     ]
    },
    {
     "name": "stdout",
     "output_type": "stream",
     "text": [
      "train_loss: 0.6157857109518612;\n",
      "loss_train: 0.616;\n",
      "acc_train: 0.638; bacc_train: 0.638; precision_train: 0.638; recall_train: 0.638; f1_train: 0.638; rocauc_train: 0.707;\n",
      "**************val*************\n"
     ]
    },
    {
     "name": "stderr",
     "output_type": "stream",
     "text": [
      "100%|██████████| 25/25 [00:02<00:00,  8.79it/s]\n"
     ]
    },
    {
     "name": "stdout",
     "output_type": "stream",
     "text": [
      "val_loss: 0.3561427307128906;\n",
      "loss_val: 0.356;\n",
      "acc_val: 0.871; bacc_val: 0.552; precision_val: 0.739; recall_val: 0.552; f1_val: 0.562; rocauc_val: 0.739;\n",
      "**************train*************\n"
     ]
    },
    {
     "name": "stderr",
     "output_type": "stream",
     "text": [
      "100%|██████████| 85/85 [00:18<00:00,  4.60it/s]\n"
     ]
    },
    {
     "name": "stdout",
     "output_type": "stream",
     "text": [
      "train_loss: 0.49788225959329047;\n",
      "loss_train: 0.498;\n",
      "acc_train: 0.752; bacc_train: 0.752; precision_train: 0.752; recall_train: 0.752; f1_train: 0.752; rocauc_train: 0.835;\n",
      "**************val*************\n"
     ]
    },
    {
     "name": "stderr",
     "output_type": "stream",
     "text": [
      "100%|██████████| 25/25 [00:03<00:00,  7.57it/s]\n"
     ]
    },
    {
     "name": "stdout",
     "output_type": "stream",
     "text": [
      "val_loss: 1.2436859893798828;\n",
      "loss_val: 1.244;\n",
      "acc_val: 0.428; bacc_val: 0.637; precision_val: 0.574; recall_val: 0.637; f1_val: 0.409; rocauc_val: 0.75;\n",
      "**************train*************\n"
     ]
    },
    {
     "name": "stderr",
     "output_type": "stream",
     "text": [
      "100%|██████████| 85/85 [00:20<00:00,  4.24it/s]\n"
     ]
    },
    {
     "name": "stdout",
     "output_type": "stream",
     "text": [
      "train_loss: 0.37941665649414064;\n",
      "loss_train: 0.379;\n",
      "acc_train: 0.843; bacc_train: 0.843; precision_train: 0.844; recall_train: 0.843; f1_train: 0.843; rocauc_train: 0.911;\n",
      "**************val*************\n"
     ]
    },
    {
     "name": "stderr",
     "output_type": "stream",
     "text": [
      "100%|██████████| 25/25 [00:03<00:00,  7.45it/s]\n"
     ]
    },
    {
     "name": "stdout",
     "output_type": "stream",
     "text": [
      "val_loss: 1.63440185546875;\n",
      "loss_val: 1.634;\n",
      "acc_val: 0.448; bacc_val: 0.6; precision_val: 0.55; recall_val: 0.6; f1_val: 0.417; rocauc_val: 0.735;\n",
      "**************train*************\n"
     ]
    },
    {
     "name": "stderr",
     "output_type": "stream",
     "text": [
      "100%|██████████| 85/85 [00:19<00:00,  4.44it/s]\n"
     ]
    },
    {
     "name": "stdout",
     "output_type": "stream",
     "text": [
      "train_loss: 0.3685286802404067;\n",
      "loss_train: 0.369;\n",
      "acc_train: 0.833; bacc_train: 0.832; precision_train: 0.833; recall_train: 0.832; f1_train: 0.832; rocauc_train: 0.914;\n",
      "**************val*************\n"
     ]
    },
    {
     "name": "stderr",
     "output_type": "stream",
     "text": [
      "100%|██████████| 25/25 [00:02<00:00,  9.59it/s]\n"
     ]
    },
    {
     "name": "stdout",
     "output_type": "stream",
     "text": [
      "val_loss: 4.562681274414063;\n",
      "loss_val: 4.563;\n",
      "acc_val: 0.139; bacc_val: 0.503; precision_val: 0.567; recall_val: 0.503; f1_val: 0.125; rocauc_val: 0.716;\n",
      "**************train*************\n"
     ]
    },
    {
     "name": "stderr",
     "output_type": "stream",
     "text": [
      "100%|██████████| 85/85 [00:15<00:00,  5.43it/s]\n"
     ]
    },
    {
     "name": "stdout",
     "output_type": "stream",
     "text": [
      "train_loss: 0.3752615535960478;\n",
      "loss_train: 0.375;\n",
      "acc_train: 0.839; bacc_train: 0.838; precision_train: 0.84; recall_train: 0.838; f1_train: 0.838; rocauc_train: 0.914;\n",
      "**************val*************\n"
     ]
    },
    {
     "name": "stderr",
     "output_type": "stream",
     "text": [
      "100%|██████████| 25/25 [00:02<00:00,  9.27it/s]\n"
     ]
    },
    {
     "name": "stdout",
     "output_type": "stream",
     "text": [
      "val_loss: 0.44058448791503907;\n",
      "loss_val: 0.441;\n",
      "acc_val: 0.825; bacc_val: 0.541; precision_val: 0.563; recall_val: 0.541; f1_val: 0.546; rocauc_val: 0.694;\n",
      "**************train*************\n"
     ]
    },
    {
     "name": "stderr",
     "output_type": "stream",
     "text": [
      "100%|██████████| 85/85 [00:21<00:00,  3.95it/s]\n"
     ]
    },
    {
     "name": "stdout",
     "output_type": "stream",
     "text": [
      "train_loss: 0.27945074193617875;\n",
      "loss_train: 0.279;\n",
      "acc_train: 0.883; bacc_train: 0.882; precision_train: 0.883; recall_train: 0.882; f1_train: 0.882; rocauc_train: 0.952;\n",
      "**************val*************\n"
     ]
    },
    {
     "name": "stderr",
     "output_type": "stream",
     "text": [
      "100%|██████████| 25/25 [00:03<00:00,  6.32it/s]\n",
      "Precision and F-score are ill-defined and being set to 0.0 in labels with no predicted samples. Use `zero_division` parameter to control this behavior.\n"
     ]
    },
    {
     "name": "stdout",
     "output_type": "stream",
     "text": [
      "val_loss: 0.7614437866210938;\n",
      "loss_val: 0.761;\n",
      "acc_val: 0.866; bacc_val: 0.5; precision_val: 0.433; recall_val: 0.5; f1_val: 0.464; rocauc_val: 0.681;\n",
      "**************train*************\n"
     ]
    },
    {
     "name": "stderr",
     "output_type": "stream",
     "text": [
      "100%|██████████| 85/85 [00:21<00:00,  3.95it/s]\n"
     ]
    },
    {
     "name": "stdout",
     "output_type": "stream",
     "text": [
      "train_loss: 0.2775578442741843;\n",
      "loss_train: 0.278;\n",
      "acc_train: 0.891; bacc_train: 0.888; precision_train: 0.89; recall_train: 0.888; f1_train: 0.889; rocauc_train: 0.952;\n",
      "**************val*************\n"
     ]
    },
    {
     "name": "stderr",
     "output_type": "stream",
     "text": [
      "100%|██████████| 25/25 [00:03<00:00,  7.75it/s]\n"
     ]
    },
    {
     "name": "stdout",
     "output_type": "stream",
     "text": [
      "val_loss: 0.5219845581054687;\n",
      "loss_val: 0.522;\n",
      "acc_val: 0.866; bacc_val: 0.533; precision_val: 0.687; recall_val: 0.533; f1_val: 0.53; rocauc_val: 0.695;\n",
      "**************train*************\n"
     ]
    },
    {
     "name": "stderr",
     "output_type": "stream",
     "text": [
      "100%|██████████| 85/85 [00:16<00:00,  5.29it/s]\n"
     ]
    },
    {
     "name": "stdout",
     "output_type": "stream",
     "text": [
      "train_loss: 0.2962338167078355;\n",
      "loss_train: 0.296;\n",
      "acc_train: 0.879; bacc_train: 0.879; precision_train: 0.879; recall_train: 0.879; f1_train: 0.879; rocauc_train: 0.946;\n",
      "**************val*************\n"
     ]
    },
    {
     "name": "stderr",
     "output_type": "stream",
     "text": [
      "100%|██████████| 25/25 [00:03<00:00,  7.79it/s]\n"
     ]
    },
    {
     "name": "stdout",
     "output_type": "stream",
     "text": [
      "val_loss: 1.7348272705078125;\n",
      "loss_val: 1.735;\n",
      "acc_val: 0.433; bacc_val: 0.64; precision_val: 0.575; recall_val: 0.64; f1_val: 0.413; rocauc_val: 0.624;\n",
      "**************train*************\n"
     ]
    },
    {
     "name": "stderr",
     "output_type": "stream",
     "text": [
      "100%|██████████| 85/85 [00:16<00:00,  5.09it/s]\n"
     ]
    },
    {
     "name": "stdout",
     "output_type": "stream",
     "text": [
      "train_loss: 0.2895456875071806;\n",
      "loss_train: 0.29;\n",
      "acc_train: 0.879; bacc_train: 0.879; precision_train: 0.879; recall_train: 0.879; f1_train: 0.879; rocauc_train: 0.949;\n",
      "**************val*************\n"
     ]
    },
    {
     "name": "stderr",
     "output_type": "stream",
     "text": [
      "100%|██████████| 25/25 [00:03<00:00,  7.52it/s]\n"
     ]
    },
    {
     "name": "stdout",
     "output_type": "stream",
     "text": [
      "val_loss: 0.7965220642089844;\n",
      "loss_val: 0.797;\n",
      "acc_val: 0.686; bacc_val: 0.688; precision_val: 0.594; recall_val: 0.688; f1_val: 0.581; rocauc_val: 0.703;\n",
      "**************train*************\n"
     ]
    },
    {
     "name": "stderr",
     "output_type": "stream",
     "text": [
      "100%|██████████| 85/85 [00:17<00:00,  4.85it/s]\n"
     ]
    },
    {
     "name": "stdout",
     "output_type": "stream",
     "text": [
      "train_loss: 0.27412080203785616;\n",
      "loss_train: 0.274;\n",
      "acc_train: 0.891; bacc_train: 0.891; precision_train: 0.891; recall_train: 0.891; f1_train: 0.891; rocauc_train: 0.953;\n",
      "**************val*************\n"
     ]
    },
    {
     "name": "stderr",
     "output_type": "stream",
     "text": [
      "100%|██████████| 25/25 [00:03<00:00,  7.73it/s]\n"
     ]
    },
    {
     "name": "stdout",
     "output_type": "stream",
     "text": [
      "val_loss: 1.013781280517578;\n",
      "loss_val: 1.014;\n",
      "acc_val: 0.66; bacc_val: 0.69; precision_val: 0.592; recall_val: 0.69; f1_val: 0.566; rocauc_val: 0.725;\n",
      "**************train*************\n"
     ]
    },
    {
     "name": "stderr",
     "output_type": "stream",
     "text": [
      "100%|██████████| 85/85 [00:16<00:00,  5.15it/s]\n"
     ]
    },
    {
     "name": "stdout",
     "output_type": "stream",
     "text": [
      "train_loss: 0.22108728745404413;\n",
      "loss_train: 0.221;\n",
      "acc_train: 0.914; bacc_train: 0.914; precision_train: 0.915; recall_train: 0.914; f1_train: 0.914; rocauc_train: 0.97;\n",
      "**************val*************\n"
     ]
    },
    {
     "name": "stderr",
     "output_type": "stream",
     "text": [
      "100%|██████████| 25/25 [00:03<00:00,  7.80it/s]\n"
     ]
    },
    {
     "name": "stdout",
     "output_type": "stream",
     "text": [
      "val_loss: 0.5126157760620117;\n",
      "loss_val: 0.513;\n",
      "acc_val: 0.84; bacc_val: 0.583; precision_val: 0.62; recall_val: 0.583; f1_val: 0.595; rocauc_val: 0.74;\n",
      "**************train*************\n"
     ]
    },
    {
     "name": "stderr",
     "output_type": "stream",
     "text": [
      "100%|██████████| 85/85 [00:17<00:00,  4.80it/s]\n"
     ]
    },
    {
     "name": "stdout",
     "output_type": "stream",
     "text": [
      "train_loss: 0.21440517201143153;\n",
      "loss_train: 0.214;\n",
      "acc_train: 0.919; bacc_train: 0.918; precision_train: 0.916; recall_train: 0.918; f1_train: 0.917; rocauc_train: 0.971;\n",
      "**************val*************\n"
     ]
    },
    {
     "name": "stderr",
     "output_type": "stream",
     "text": [
      "100%|██████████| 25/25 [00:02<00:00,  9.29it/s]\n"
     ]
    },
    {
     "name": "stdout",
     "output_type": "stream",
     "text": [
      "val_loss: 0.6653351593017578;\n",
      "loss_val: 0.665;\n",
      "acc_val: 0.737; bacc_val: 0.621; precision_val: 0.574; recall_val: 0.621; f1_val: 0.579; rocauc_val: 0.701;\n",
      "**************train*************\n"
     ]
    },
    {
     "name": "stderr",
     "output_type": "stream",
     "text": [
      "100%|██████████| 85/85 [00:17<00:00,  6.01it/s]"
     ]
    }
   ],
   "source": [
    "\n",
    "writer = SummaryWriter()\n",
    "\n",
    "current_epoch = 0\n",
    "epochs = 30\n",
    "best_f1 = 0\n",
    "best_auc = 0\n",
    "\n",
    "savepath = \"resnet10_realigned\"\n",
    "\n",
    "for i in range(current_epoch , epochs+1):\n",
    "\n",
    "    train_loss, preds_prob, labels = epoch_iter(train_loader, model, loss_function, optimizer, device)\n",
    "    print(f\"train_loss: {train_loss};\")\n",
    "    writer.add_scalar('train_loss', train_loss, i)\n",
    "    _, _ = add_metrics(writer, preds_prob, labels, train_loss, i, mode = 'train')\n",
    "\n",
    "    val_loss, preds_prob, labels = epoch_iter(val_loader, model, loss_function, optimizer, device, mode = 'val')\n",
    "    print(f\"val_loss: {val_loss};\")\n",
    "    writer.add_scalar('val_loss', val_loss, i)\n",
    "    f1, rocauc = add_metrics(writer, preds_prob, labels, val_loss, i, mode = 'val')\n",
    "    if f1>best_f1:\n",
    "        best_f1 = f1\n",
    "        save_checkpoint(savepath, model, optimizer, 'f1', i)\n",
    "    if rocauc>best_auc:\n",
    "        best_auc = rocauc\n",
    "        save_checkpoint(savepath, model, optimizer, 'rocauc', i)\n",
    "    "
   ]
  },
  {
   "attachments": {},
   "cell_type": "markdown",
   "id": "b307f305",
   "metadata": {},
   "source": [
    "# Test"
   ]
  },
  {
   "cell_type": "code",
   "execution_count": 16,
   "id": "a9a2704a-bba4-403c-986a-23e9f6e1f109",
   "metadata": {},
   "outputs": [
    {
     "data": {
      "text/plain": [
       "<All keys matched successfully>"
      ]
     },
     "execution_count": 16,
     "metadata": {},
     "output_type": "execute_result"
    }
   ],
   "source": [
    "savepath = \"resnet10_realigned\"\n",
    "checkpoints_dir = f\"checkpoints/{savepath}\"\n",
    "checkpoint_type = 'f1'\n",
    "model_path = os.path.join(checkpoints_dir, f'model-{checkpoint_type}.ckpt')\n",
    "\n",
    "model_state_dict = torch.load(model_path, map_location=torch.device(device))\n",
    "model.load_state_dict(model_state_dict)"
   ]
  },
  {
   "cell_type": "code",
   "execution_count": 17,
   "id": "c8fdb17d",
   "metadata": {},
   "outputs": [
    {
     "name": "stdout",
     "output_type": "stream",
     "text": [
      "**************val*************\n"
     ]
    },
    {
     "name": "stderr",
     "output_type": "stream",
     "text": [
      "100%|██████████| 13/13 [00:02<00:00,  6.22it/s]\n"
     ]
    },
    {
     "name": "stdout",
     "output_type": "stream",
     "text": [
      "val_loss: 0.8945473891038161;\n",
      "acc_test: 0.845; bacc_test: 0.699; precision_test: 0.781; recall_test: 0.699; f1_test: 0.726; rocauc_test: 0.839;\n",
      "**************val*************\n"
     ]
    },
    {
     "name": "stderr",
     "output_type": "stream",
     "text": [
      "100%|██████████| 25/25 [00:03<00:00,  7.54it/s]"
     ]
    },
    {
     "name": "stdout",
     "output_type": "stream",
     "text": [
      "val_loss: 0.692416000366211;\n",
      "acc_val: 0.84; bacc_val: 0.615; precision_val: 0.638; recall_val: 0.615; f1_val: 0.625; rocauc_val: 0.713;\n"
     ]
    },
    {
     "name": "stderr",
     "output_type": "stream",
     "text": [
      "\n"
     ]
    }
   ],
   "source": [
    "\n",
    "mode = 'test'\n",
    "val_loss, preds_prob, labels = epoch_iter(test_loader, model, loss_function, optimizer, device, mode = 'val')\n",
    "print(f\"val_loss: {val_loss};\")\n",
    "acc, bacc, precision, recall, f1,rocauc = get_metrics(preds_prob, labels)\n",
    "print(\n",
    "        f\"acc_{mode}: {acc}; bacc_{mode}: {bacc};\" +\n",
    "        f\" precision_{mode}: {precision}; recall_{mode}: {recall}; f1_{mode}: {f1};\" +\n",
    "        f\" rocauc_{mode}: {rocauc};\"\n",
    "        )\n",
    "\n",
    "mode = 'val'\n",
    "val_loss, preds_prob, labels = epoch_iter(val_loader, model, loss_function, optimizer, device, mode = 'val')\n",
    "print(f\"val_loss: {val_loss};\")\n",
    "acc, bacc, precision, recall, f1,rocauc = get_metrics(preds_prob, labels)\n",
    "print(\n",
    "        f\"acc_{mode}: {acc}; bacc_{mode}: {bacc};\" +\n",
    "        f\" precision_{mode}: {precision}; recall_{mode}: {recall}; f1_{mode}: {f1};\" +\n",
    "        f\" rocauc_{mode}: {rocauc};\"\n",
    "        )"
   ]
  },
  {
   "attachments": {},
   "cell_type": "markdown",
   "id": "04adf78a",
   "metadata": {},
   "source": [
    "### Resnet10 top rocauc\n",
    "\n",
    "val_loss: 0.8527595079862155;\n",
    "acc_test: 0.619; bacc_test: 0.741; precision_test: 0.661; recall_test: 0.741; f1_test: 0.598; rocauc_test: 0.861;\n",
    "\n",
    "val_loss: 1.2436859893798828;\n",
    "acc_val: 0.428; bacc_val: 0.637; precision_val: 0.574; recall_val: 0.637; f1_val: 0.409; rocauc_val: 0.75;\n",
    "\n",
    "### F1\n",
    "\n",
    "val_loss: 0.8945473891038161;\n",
    "acc_test: 0.845; bacc_test: 0.699; precision_test: 0.781; recall_test: 0.699; f1_test: 0.726; rocauc_test: 0.839;\n",
    "\n",
    "val_loss: 0.692416000366211;\n",
    "acc_val: 0.84; bacc_val: 0.615; precision_val: 0.638; recall_val: 0.615; f1_val: 0.625; rocauc_val: 0.713;\n",
    "\n",
    "---"
   ]
  },
  {
   "attachments": {},
   "cell_type": "markdown",
   "id": "09a44f76",
   "metadata": {},
   "source": [
    "### simple CNN top rocauc\n",
    "\n",
    "val_loss: 0.7132892608642578;\n",
    "acc_test: 0.835; bacc_test: 0.693; precision_test: 0.755; recall_test: 0.693; f1_test: 0.715; rocauc_test: 0.824;\n",
    "\n",
    "val_loss: 0.5662627029418945;\n",
    "acc_val: 0.835; bacc_val: 0.612; precision_val: 0.629; recall_val: 0.612; f1_val: 0.62; rocauc_val: 0.754;\n",
    "\n",
    "### F1\n",
    "\n",
    "val_loss: 1.0085984743558443;\n",
    "acc_test: 0.825; bacc_test: 0.612; precision_test: 0.774; recall_test: 0.612; f1_test: 0.634; rocauc_test: 0.821;\n",
    "\n",
    "val_loss: 0.6464328002929688;\n",
    "acc_val: 0.845; bacc_val: 0.618; precision_val: 0.648; recall_val: 0.618; f1_val: 0.63; rocauc_val: 0.71;\n",
    "\n",
    "---\n"
   ]
  },
  {
   "cell_type": "code",
   "execution_count": 7,
   "id": "70ac55f9",
   "metadata": {},
   "outputs": [],
   "source": [
    "### simple CNN top rocauc\n",
    "\n",
    "val_loss: 0.7132892608642578;\n",
    "acc_test: 0.835; bacc_test: 0.693; precision_test: 0.755; recall_test: 0.693; f1_test: 0.715; rocauc_test: 0.824;"
   ]
  },
  {
   "cell_type": "code",
   "execution_count": null,
   "id": "da20a9be",
   "metadata": {},
   "outputs": [],
   "source": []
  }
 ],
 "metadata": {
  "kernelspec": {
   "display_name": "Python 3",
   "language": "python",
   "name": "python3"
  },
  "language_info": {
   "codemirror_mode": {
    "name": "ipython",
    "version": 3
   },
   "file_extension": ".py",
   "mimetype": "text/x-python",
   "name": "python",
   "nbconvert_exporter": "python",
   "pygments_lexer": "ipython3",
   "version": "3.9.13"
  }
 },
 "nbformat": 4,
 "nbformat_minor": 5
}
