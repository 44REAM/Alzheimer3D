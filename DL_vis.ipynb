{
 "cells": [
  {
   "cell_type": "code",
   "execution_count": 28,
   "metadata": {},
   "outputs": [],
   "source": [
    "\n",
    "import numpy as np\n",
    "import matplotlib.pyplot as plt\n",
    "from sklearn.model_selection import train_test_split\n",
    "\n",
    "import torch\n",
    "\n",
    "from matplotlib.colors import LinearSegmentedColormap\n",
    "\n",
    "from dataset import get_loader, get_data, get_normalization_param, get_transform\n",
    "\n",
    "from captum.attr import (\n",
    "    GradientShap,\n",
    "    DeepLift,\n",
    "    DeepLiftShap,\n",
    "    IntegratedGradients,\n",
    "    LayerConductance,\n",
    "    NeuronConductance,\n",
    "    NoiseTunnel,\n",
    ")\n",
    "from captum.attr import visualization as viz\n",
    "\n",
    "from models import get_model"
   ]
  },
  {
   "cell_type": "code",
   "execution_count": 5,
   "metadata": {},
   "outputs": [
    {
     "data": {
      "text/plain": [
       "<All keys matched successfully>"
      ]
     },
     "execution_count": 5,
     "metadata": {},
     "output_type": "execute_result"
    }
   ],
   "source": [
    "device = torch.device('cuda' if torch.cuda.is_available() else 'cpu')\n",
    "model_path = \"checkpoints/_nPT_resnet10/model-bacc.ckpt\"\n",
    "model_name = 'resnet10'\n",
    "\n",
    "model_state_dict = torch.load(model_path, map_location=torch.device(device))\n",
    "model = get_model(model_name, device)\n",
    "model.load_state_dict(model_state_dict)\n",
    "model.eval()"
   ]
  },
  {
   "cell_type": "code",
   "execution_count": 24,
   "metadata": {},
   "outputs": [
    {
     "name": "stdout",
     "output_type": "stream",
     "text": [
      "nPT: ['normal_0054', 'normal_0380', 'normal_0470', 'normal_0531', 'normal_0546', 'normal_0553', 'normal_0555', 'normal_0766', 'normal_0768', 'normal_0769', 'mci_0116', 'mci_0120']\n",
      "961\n"
     ]
    }
   ],
   "source": [
    "basepath = \"/data1/TBM/data_for_AI/data/realigned_pt/\"\n",
    "csvpath = '/data1/TBM/data_for_AI/subjects_info/final_TBM_subjects_info.csv'\n",
    "mask_basepath = \"/data1/TBM/data_for_AI/new_data/DTI/nodif_brain_mask\"\n",
    "modality = {\n",
    "        'basepath': \"/data1/TBM/data_for_AI/new_data/DTI/nPT\",\n",
    "        'modality': 'nPT',\n",
    "        'use_file': None,\n",
    "        'prefix': '',\n",
    "        'suffix': '_wnfdt_paths.nii'\n",
    "    }\n",
    "random_state = 42\n",
    "img_size = 64\n",
    "\n",
    "filenames, mask_filenames, labels_data, no_data = get_data(\n",
    "        csvpath, \n",
    "        modality['basepath'], \n",
    "        mask_basepath,\n",
    "        random_state,\n",
    "        modality = modality['modality'],\n",
    "        use_file=modality['use_file'],\n",
    "        prefix = modality['prefix'],\n",
    "        suffix = modality['suffix'],)\n",
    "\n",
    "all_index = list(range(961))\n",
    "test_size = 0.1\n",
    "val_size = 0.2\n",
    "train_index, test_index = train_test_split(all_index,  test_size= test_size, random_state=random_state)\n",
    "train_index, val_index = train_test_split(train_index,  test_size= val_size, random_state=random_state)\n",
    "\n",
    "print(f\"{modality['modality']}: {no_data}\")\n",
    "print(len(filenames))\n",
    "x_train = [filenames[i] for i in train_index]\n",
    "x_val = [filenames[i] for i in val_index]\n",
    "x_test = [filenames[i] for i in test_index]\n",
    "\n",
    "y_train = [labels_data[i] for i in train_index]\n",
    "y_val = [labels_data[i] for i in val_index]\n",
    "y_test = [labels_data[i] for i in test_index]\n",
    "\n",
    "mean_data, std_data = get_normalization_param(x_train, mask_filenames)\n",
    "\n",
    "train_transform = get_transform(mean_data, std_data, mode = 'train')\n",
    "val_transform = get_transform(mean_data, std_data, mode = 'val')\n",
    "\n",
    "train_loader = get_loader(x_train, y_train, train_transform, mode = 'train', batch_size =1, img_size = img_size)\n",
    "val_loader = get_loader(x_val, y_val,val_transform, mode = 'val', batch_size =1, img_size = img_size)"
   ]
  },
  {
   "cell_type": "code",
   "execution_count": 46,
   "metadata": {},
   "outputs": [
    {
     "data": {
      "image/png": "[encoded data removed]",
      "text/plain": [
       "<Figure size 576x432 with 4 Axes>"
      ]
     },
     "metadata": {
      "needs_background": "light"
     },
     "output_type": "display_data"
    }
   ],
   "source": [
    "target_layers = [model.layer4[-1]]\n",
    "\n",
    "# ลองทำของคนเดียว\n",
    "for img, label in val_loader:\n",
    "    input_tensor = img\n",
    "    break\n",
    "\n",
    "# Note: input_tensor can be a batch tensor with several images!\n",
    "\n",
    "# Construct the CAM object once, and then re-use it on many images:\n",
    "ig = IntegratedGradients(model)\n",
    "attributions_ig  = ig.attribute(input_tensor.cuda(), target=0) \n",
    "\n",
    "\n",
    "default_cmap = LinearSegmentedColormap.from_list('custom blue', \n",
    "                                                 [(0, '#ffffff'),\n",
    "                                                  (0.25, '#000000'),\n",
    "                                                  (1, '#000000')], N=256)\n",
    "\n",
    "_ = viz.visualize_image_attr_multiple(np.transpose(attributions_ig.squeeze().cpu().detach().numpy()[20:21,:,:], (1,2,0)),\n",
    "                             np.transpose(input_tensor.squeeze().cpu().detach().numpy()[20:21,:,:], (1,2,0)),\n",
    "                             [\"original_image\", \"heat_map\"],\n",
    "                                      [\"all\", \"positive\"],\n",
    "                             cmap=default_cmap,\n",
    "                             show_colorbar=True)"
   ]
  },
  {
   "cell_type": "code",
   "execution_count": 60,
   "metadata": {},
   "outputs": [
    {
     "data": {
      "text/plain": [
       "<matplotlib.image.AxesImage at 0x7f3eec747f40>"
      ]
     },
     "execution_count": 60,
     "metadata": {},
     "output_type": "execute_result"
    },
    {
     "data": {
      "image/png": "[encoded data removed]",
      "text/plain": [
       "<Figure size 432x288 with 1 Axes>"
      ]
     },
     "metadata": {
      "needs_background": "light"
     },
     "output_type": "display_data"
    }
   ],
   "source": [
    "plt.imshow(np.transpose(attributions_ig.squeeze().cpu().detach().numpy()[20:21,:,:]), alpha=1, cmap = 'coolwarm')\n",
    "plt.imshow(np.transpose(input_tensor.squeeze().cpu().detach().numpy()[20:21,:,:]), alpha = 0.5, cmap = 'gray')\n"
   ]
  },
  {
   "cell_type": "code",
   "execution_count": 37,
   "metadata": {},
   "outputs": [
    {
     "data": {
      "text/plain": [
       "(64, 64, 64)"
      ]
     },
     "execution_count": 37,
     "metadata": {},
     "output_type": "execute_result"
    }
   ],
   "source": [
    "attributions_ig.squeeze().cpu().detach().numpy().shape"
   ]
  },
  {
   "cell_type": "code",
   "execution_count": 38,
   "metadata": {},
   "outputs": [
    {
     "data": {
      "text/plain": [
       "torch.Size([1, 1, 64, 64, 64])"
      ]
     },
     "execution_count": 38,
     "metadata": {},
     "output_type": "execute_result"
    }
   ],
   "source": [
    "attributions_ig.size()"
   ]
  }
 ],
 "metadata": {
  "kernelspec": {
   "display_name": "Python 3",
   "language": "python",
   "name": "python3"
  },
  "language_info": {
   "codemirror_mode": {
    "name": "ipython",
    "version": 3
   },
   "file_extension": ".py",
   "mimetype": "text/x-python",
   "name": "python",
   "nbconvert_exporter": "python",
   "pygments_lexer": "ipython3",
   "version": "3.9.13"
  },
  "vscode": {
   "interpreter": {
    "hash": "1a0e134c4c6fb99c2b733448cfc9abe886bd914c88054eb86f2f0a4d6c4d714e"
   }
  }
 },
 "nbformat": 4,
 "nbformat_minor": 4
}
