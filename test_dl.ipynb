{
 "cells": [
  {
   "cell_type": "code",
   "execution_count": 1,
   "metadata": {},
   "outputs": [],
   "source": [
    "import os\n",
    "import random\n",
    "\n",
    "import numpy as np\n",
    "import matplotlib.pyplot as plt\n",
    "import seaborn as sns\n",
    "import pandas as pd\n",
    "import SimpleITK as sitk\n",
    "from sklearn.model_selection import train_test_split\n",
    "from sklearn.model_selection import StratifiedKFold\n",
    "from torch.utils.tensorboard import SummaryWriter\n",
    "import torch\n",
    "import torch.nn as nn\n",
    "import monai.transforms as monai_transforms\n",
    "\n",
    "from dataset import (\n",
    "    MRIDataset, \n",
    "    get_loader, get_data, get_covid_data,\n",
    "    get_normalization_param, \n",
    "    get_transform, get_normalization_param_nomask)\n",
    "from models import C3D, generate_model, ResNet, get_model\n",
    "from train import epoch_iter, add_metrics, save_checkpoint, get_metrics\n",
    "\n"
   ]
  },
  {
   "cell_type": "code",
   "execution_count": 2,
   "metadata": {},
   "outputs": [],
   "source": [
    "df = pd.read_excel(\"/data1/KidLead/KidLead_analysis/project_info/PBproject_info.xlsx\", sheet_name = 'Total')"
   ]
  },
  {
   "cell_type": "code",
   "execution_count": 3,
   "metadata": {},
   "outputs": [
    {
     "data": {
      "text/html": [
       "<div>\n",
       "<style scoped>\n",
       "    .dataframe tbody tr th:only-of-type {\n",
       "        vertical-align: middle;\n",
       "    }\n",
       "\n",
       "    .dataframe tbody tr th {\n",
       "        vertical-align: top;\n",
       "    }\n",
       "\n",
       "    .dataframe thead th {\n",
       "        text-align: right;\n",
       "    }\n",
       "</style>\n",
       "<table border=\"1\" class=\"dataframe\">\n",
       "  <thead>\n",
       "    <tr style=\"text-align: right;\">\n",
       "      <th></th>\n",
       "      <th>HN</th>\n",
       "      <th>First_Name</th>\n",
       "      <th>Surname</th>\n",
       "      <th>TH_Name</th>\n",
       "      <th>FSIQ_01</th>\n",
       "      <th>IQ_01_range</th>\n",
       "      <th>Age_Day_01</th>\n",
       "      <th>Age_Y_01</th>\n",
       "      <th>Age_M_01</th>\n",
       "      <th>Lead(Pb)</th>\n",
       "      <th>SEX_convert</th>\n",
       "      <th>Group</th>\n",
       "    </tr>\n",
       "  </thead>\n",
       "  <tbody>\n",
       "    <tr>\n",
       "      <th>0</th>\n",
       "      <td>3640688</td>\n",
       "      <td>Aiyada</td>\n",
       "      <td>Samanchuea</td>\n",
       "      <td>อัยดา สมานเชื้อ</td>\n",
       "      <td>107</td>\n",
       "      <td>Average</td>\n",
       "      <td>3637</td>\n",
       "      <td>9</td>\n",
       "      <td>119</td>\n",
       "      <td>3.030</td>\n",
       "      <td>F</td>\n",
       "      <td>normal</td>\n",
       "    </tr>\n",
       "    <tr>\n",
       "      <th>1</th>\n",
       "      <td>4726412</td>\n",
       "      <td>Akkharadet</td>\n",
       "      <td>Saengchan</td>\n",
       "      <td>อัครเดช แสงจันทร์</td>\n",
       "      <td>116</td>\n",
       "      <td>bright normal</td>\n",
       "      <td>4807</td>\n",
       "      <td>13</td>\n",
       "      <td>157</td>\n",
       "      <td>5.270</td>\n",
       "      <td>M</td>\n",
       "      <td>normal</td>\n",
       "    </tr>\n",
       "    <tr>\n",
       "      <th>2</th>\n",
       "      <td>4726420</td>\n",
       "      <td>Alina</td>\n",
       "      <td>Wongchaidet</td>\n",
       "      <td>อาลีน่า วงษ์ไชยเดช</td>\n",
       "      <td>93</td>\n",
       "      <td>Average</td>\n",
       "      <td>3406</td>\n",
       "      <td>9</td>\n",
       "      <td>111</td>\n",
       "      <td>2.820</td>\n",
       "      <td>F</td>\n",
       "      <td>normal</td>\n",
       "    </tr>\n",
       "    <tr>\n",
       "      <th>3</th>\n",
       "      <td>4720316</td>\n",
       "      <td>Amani</td>\n",
       "      <td>Charoenying</td>\n",
       "      <td>อมานี เจริญยิ่ง</td>\n",
       "      <td>107</td>\n",
       "      <td>Average</td>\n",
       "      <td>3287</td>\n",
       "      <td>8</td>\n",
       "      <td>107</td>\n",
       "      <td>1.760</td>\n",
       "      <td>F</td>\n",
       "      <td>normal</td>\n",
       "    </tr>\n",
       "    <tr>\n",
       "      <th>4</th>\n",
       "      <td>4720208</td>\n",
       "      <td>Ananya</td>\n",
       "      <td>Charoenmun</td>\n",
       "      <td>อนัญญา เจริญมูล</td>\n",
       "      <td>99</td>\n",
       "      <td>Average</td>\n",
       "      <td>3586</td>\n",
       "      <td>9</td>\n",
       "      <td>117</td>\n",
       "      <td>2.840</td>\n",
       "      <td>F</td>\n",
       "      <td>normal</td>\n",
       "    </tr>\n",
       "    <tr>\n",
       "      <th>...</th>\n",
       "      <td>...</td>\n",
       "      <td>...</td>\n",
       "      <td>...</td>\n",
       "      <td>...</td>\n",
       "      <td>...</td>\n",
       "      <td>...</td>\n",
       "      <td>...</td>\n",
       "      <td>...</td>\n",
       "      <td>...</td>\n",
       "      <td>...</td>\n",
       "      <td>...</td>\n",
       "      <td>...</td>\n",
       "    </tr>\n",
       "    <tr>\n",
       "      <th>149</th>\n",
       "      <td>4854341</td>\n",
       "      <td>Surasak</td>\n",
       "      <td>Phaisantham</td>\n",
       "      <td>สุรศักดิ์ ไพศาลธรรม</td>\n",
       "      <td>87</td>\n",
       "      <td>low average</td>\n",
       "      <td>4516</td>\n",
       "      <td>12</td>\n",
       "      <td>148</td>\n",
       "      <td>22.830</td>\n",
       "      <td>M</td>\n",
       "      <td>lead</td>\n",
       "    </tr>\n",
       "    <tr>\n",
       "      <th>150</th>\n",
       "      <td>4854351</td>\n",
       "      <td>Waranya</td>\n",
       "      <td>Bupphachaem</td>\n",
       "      <td>วรัณญา บุปผาแช่ม</td>\n",
       "      <td>90</td>\n",
       "      <td>Average</td>\n",
       "      <td>4279</td>\n",
       "      <td>11</td>\n",
       "      <td>140</td>\n",
       "      <td>11.685</td>\n",
       "      <td>F</td>\n",
       "      <td>lead</td>\n",
       "    </tr>\n",
       "    <tr>\n",
       "      <th>151</th>\n",
       "      <td>4854350</td>\n",
       "      <td>Warinya</td>\n",
       "      <td>Bupphachaem</td>\n",
       "      <td>วริณญา บุปผาแช่ม</td>\n",
       "      <td>91</td>\n",
       "      <td>Average</td>\n",
       "      <td>4279</td>\n",
       "      <td>11</td>\n",
       "      <td>140</td>\n",
       "      <td>11.685</td>\n",
       "      <td>F</td>\n",
       "      <td>lead</td>\n",
       "    </tr>\n",
       "    <tr>\n",
       "      <th>152</th>\n",
       "      <td>4854346</td>\n",
       "      <td>Wawalee</td>\n",
       "      <td>Tamasee</td>\n",
       "      <td>วาวลี ตามาสี</td>\n",
       "      <td>100</td>\n",
       "      <td>Average</td>\n",
       "      <td>4028</td>\n",
       "      <td>11</td>\n",
       "      <td>132</td>\n",
       "      <td>11.450</td>\n",
       "      <td>F</td>\n",
       "      <td>lead</td>\n",
       "    </tr>\n",
       "    <tr>\n",
       "      <th>153</th>\n",
       "      <td>4847311</td>\n",
       "      <td>Wiraphon</td>\n",
       "      <td>Thiankhai</td>\n",
       "      <td>วิราพร เทียนไข</td>\n",
       "      <td>97</td>\n",
       "      <td>Average</td>\n",
       "      <td>3394</td>\n",
       "      <td>9</td>\n",
       "      <td>111</td>\n",
       "      <td>16.375</td>\n",
       "      <td>F</td>\n",
       "      <td>lead</td>\n",
       "    </tr>\n",
       "  </tbody>\n",
       "</table>\n",
       "<p>154 rows × 12 columns</p>\n",
       "</div>"
      ],
      "text/plain": [
       "          HN  First_Name      Surname              TH_Name  FSIQ_01  \\\n",
       "0    3640688      Aiyada   Samanchuea      อัยดา สมานเชื้อ      107   \n",
       "1    4726412  Akkharadet    Saengchan    อัครเดช แสงจันทร์      116   \n",
       "2    4726420       Alina  Wongchaidet   อาลีน่า วงษ์ไชยเดช       93   \n",
       "3    4720316       Amani  Charoenying      อมานี เจริญยิ่ง      107   \n",
       "4    4720208      Ananya   Charoenmun      อนัญญา เจริญมูล       99   \n",
       "..       ...         ...          ...                  ...      ...   \n",
       "149  4854341     Surasak  Phaisantham  สุรศักดิ์ ไพศาลธรรม       87   \n",
       "150  4854351     Waranya  Bupphachaem     วรัณญา บุปผาแช่ม       90   \n",
       "151  4854350     Warinya  Bupphachaem     วริณญา บุปผาแช่ม       91   \n",
       "152  4854346     Wawalee      Tamasee         วาวลี ตามาสี      100   \n",
       "153  4847311    Wiraphon    Thiankhai       วิราพร เทียนไข       97   \n",
       "\n",
       "       IQ_01_range  Age_Day_01  Age_Y_01  Age_M_01  Lead(Pb) SEX_convert  \\\n",
       "0          Average        3637         9       119     3.030           F   \n",
       "1    bright normal        4807        13       157     5.270           M   \n",
       "2          Average        3406         9       111     2.820           F   \n",
       "3          Average        3287         8       107     1.760           F   \n",
       "4          Average        3586         9       117     2.840           F   \n",
       "..             ...         ...       ...       ...       ...         ...   \n",
       "149    low average        4516        12       148    22.830           M   \n",
       "150        Average        4279        11       140    11.685           F   \n",
       "151        Average        4279        11       140    11.685           F   \n",
       "152        Average        4028        11       132    11.450           F   \n",
       "153        Average        3394         9       111    16.375           F   \n",
       "\n",
       "      Group  \n",
       "0    normal  \n",
       "1    normal  \n",
       "2    normal  \n",
       "3    normal  \n",
       "4    normal  \n",
       "..      ...  \n",
       "149    lead  \n",
       "150    lead  \n",
       "151    lead  \n",
       "152    lead  \n",
       "153    lead  \n",
       "\n",
       "[154 rows x 12 columns]"
      ]
     },
     "execution_count": 3,
     "metadata": {},
     "output_type": "execute_result"
    }
   ],
   "source": [
    "df"
   ]
  },
  {
   "cell_type": "code",
   "execution_count": 15,
   "metadata": {},
   "outputs": [
    {
     "name": "stderr",
     "output_type": "stream",
     "text": [
      "Implicit dimension choice for softmax has been deprecated. Change the call to include dim=X as an argument.\n"
     ]
    },
    {
     "data": {
      "text/plain": [
       "tensor([[0.4173, 0.5827],\n",
       "        [0.4646, 0.5354],\n",
       "        [0.3669, 0.6331]])"
      ]
     },
     "execution_count": 15,
     "metadata": {},
     "output_type": "execute_result"
    }
   ],
   "source": [
    "F.softmax(torch.Tensor(a)).tolist()"
   ]
  },
  {
   "cell_type": "code",
   "execution_count": 11,
   "metadata": {},
   "outputs": [],
   "source": [
    "a = [[-0.02297105,  0.31076393],\n",
    " [ 0.27239621,  0.41407093],\n",
    " [-0.03566893,  0.50999635]]"
   ]
  },
  {
   "cell_type": "code",
   "execution_count": 12,
   "metadata": {},
   "outputs": [
    {
     "data": {
      "text/plain": [
       "[[-0.02297105, 0.31076393],\n",
       " [0.27239621, 0.41407093],\n",
       " [-0.03566893, 0.50999635]]"
      ]
     },
     "execution_count": 12,
     "metadata": {},
     "output_type": "execute_result"
    }
   ],
   "source": [
    "a"
   ]
  },
  {
   "cell_type": "code",
   "execution_count": 5,
   "metadata": {},
   "outputs": [
    {
     "name": "stdout",
     "output_type": "stream",
     "text": [
      "[  1   5   8  10  20  27  32  35  36  42  46  49  50  54  55  57  60  65\n",
      "  72  77  79  92  94  97 100 104 109 111 116 124 125 132 134 136 137 138\n",
      " 141 142 145 146 148 166 175 177 178 189 205 206 211 213 214 219 222 223\n",
      " 241 242 251 256 266 279 291 295 300 304 307 309 320 321 323 334 337 341\n",
      " 344 353 354 357 363 369 370 371 374 375 376 394 403 412 413 427 439 442\n",
      " 449 460 467 468 469 476 480 490 497 501 504 506 508 509 513 514 517 522\n",
      " 527 528 530 538 540 541 546 548 552 563 565 571 576 607 623 624 625 627\n",
      " 634 645 646 648 650 653 658 659 663 664 672 673 687 694 696 699 701 704\n",
      " 729 736 744 748 751 752 754 755 760 765]\n",
      "[  0   6   7  13  15  18  21  24  31  37  48  52  53  61  63  69  70  76\n",
      "  81  82  85  86  87  88  91  95  99 103 117 121 129 147 157 158 162 167\n",
      " 169 171 181 184 185 187 191 202 204 226 234 236 244 248 250 252 254 262\n",
      " 282 283 292 294 296 299 301 308 312 317 325 326 328 333 335 336 338 345\n",
      " 349 352 367 379 387 397 398 400 404 405 410 411 414 419 426 428 432 437\n",
      " 440 443 444 451 453 455 458 470 474 483 484 485 487 489 492 494 499 503\n",
      " 519 520 526 549 553 558 569 580 581 582 587 590 597 605 606 609 612 619\n",
      " 622 628 629 633 635 651 655 667 668 680 681 683 686 692 709 712 717 718\n",
      " 720 725 732 734 735 738 746 749 763 767]\n",
      "[ 16  22  23  25  26  28  33  39  41  58  62  67  73  75  84  90  96  98\n",
      " 105 106 108 114 118 120 123 126 130 131 133 135 143 159 161 164 165 170\n",
      " 173 183 192 201 203 207 208 221 224 225 230 232 233 239 255 260 264 268\n",
      " 269 272 275 277 281 285 289 293 303 316 327 329 330 339 343 346 348 355\n",
      " 358 364 377 378 381 388 390 393 395 407 409 416 422 423 431 447 456 461\n",
      " 475 495 500 507 510 512 515 518 525 532 533 536 539 544 547 550 551 554\n",
      " 555 556 559 573 577 586 589 593 595 596 598 601 608 613 621 626 638 640\n",
      " 644 654 657 666 671 674 685 689 691 693 697 700 708 711 713 715 722 723\n",
      " 724 731 733 739 742 747 750 756 757 759]\n",
      "[  3   4   9  11  17  29  30  34  44  45  56  59  66  68  74  80  83  89\n",
      "  93 107 110 112 115 119 127 139 140 144 152 154 155 160 168 172 176 179\n",
      " 180 196 197 200 210 212 218 220 229 231 237 243 245 253 257 258 259 263\n",
      " 270 274 276 278 287 288 290 298 302 306 310 311 315 322 340 347 350 360\n",
      " 372 380 384 385 392 396 399 415 417 418 424 425 430 433 434 436 438 441\n",
      " 446 452 454 457 459 463 471 472 473 479 481 482 486 493 496 511 516 523\n",
      " 524 531 535 537 542 543 545 557 560 561 562 564 566 567 568 578 579 591\n",
      " 594 600 603 604 611 616 617 618 630 637 656 660 662 679 684 690 698 702\n",
      " 703 705 714 716 719 721 753 761 762]\n",
      "[  2  12  14  19  38  40  43  47  51  64  71  78 101 102 113 122 128 149\n",
      " 150 151 153 156 163 174 182 186 188 190 193 194 195 198 199 209 215 216\n",
      " 217 227 228 235 238 240 246 247 249 261 265 267 271 273 280 284 286 297\n",
      " 305 313 314 318 319 324 331 332 342 351 356 359 361 362 365 366 368 373\n",
      " 382 383 386 389 391 401 402 406 408 420 421 429 435 445 448 450 462 464\n",
      " 465 466 477 478 488 491 498 502 505 521 529 534 570 572 574 575 583 584\n",
      " 585 588 592 599 602 610 614 615 620 631 632 636 639 641 642 643 647 649\n",
      " 652 661 665 669 670 675 676 677 678 682 688 695 706 707 710 726 727 728\n",
      " 730 737 740 741 743 745 758 764 766]\n"
     ]
    }
   ],
   "source": [
    "number_of_data = 961\n",
    "test_size = 0.2\n",
    "random_state = 55555\n",
    "from sklearn.model_selection import KFold\n",
    "kf = KFold(n_splits=5, random_state=random_state, shuffle=True)\n",
    "all_index = list(range(number_of_data))\n",
    "\n",
    "train_index, test_index = train_test_split(all_index,  test_size= test_size, random_state=random_state)\n",
    "\n",
    "for i, (train_index, val_index) in enumerate(kf.split(train_index)):\n",
    "    print(val_index)\n"
   ]
  },
  {
   "cell_type": "code",
   "execution_count": 2,
   "metadata": {},
   "outputs": [
    {
     "name": "stdout",
     "output_type": "stream",
     "text": [
      "(64, 128, 128)\n",
      "(64, 128, 128)\n",
      "(64, 128, 128)\n",
      "(60, 128, 128)\n",
      "(64, 128, 128)\n",
      "(64, 128, 128)\n",
      "(62, 144, 144)\n",
      "(60, 128, 128)\n"
     ]
    }
   ],
   "source": [
    "basepath = \"/data0/AI_SAMPLES/AI_SAMPLES_18DEC2022\"\n",
    "csvpath = '/data0/AI_SAMPLES/mapping_18DEC2022.csv'\n",
    "\n",
    "df_data = pd.read_csv(csvpath, header=None, index_col = 0, usecols=[0, 1, 4])\n",
    "df_data.columns = ['class', 'name']\n",
    "df_data.index.name = None\n",
    "\n",
    "filenames = []\n",
    "labels = []\n",
    "\n",
    "for name, label in zip(df_data.name, df_data['class']):\n",
    "    folderpath = os.path.join(basepath, name)\n",
    "    try:\n",
    "        fdt_paths_path = os.path.join(folderpath, 'DTI', 'fdt_paths_vol0.nii.gz')\n",
    "        fdt_paths = sitk.ReadImage(fdt_paths_path)\n",
    "        a = sitk.GetArrayFromImage(fdt_paths)\n",
    "        if a.shape[0] != 62 or a.shape[1] != 128 or a.shape[2] != 128:\n",
    "            print(a.shape)\n",
    "            continue\n",
    "    except:\n",
    "        continue\n",
    "    filenames.append(name)\n",
    "    if label == 'mci':\n",
    "        labels.append(1)\n",
    "    elif label == 'normal':\n",
    "        labels.append(0)\n",
    "    elif label == 'mmd':\n",
    "        labels.append(2) \n",
    "\n",
    "\n",
    "df_data = pd.DataFrame()\n",
    "df_data['label'] = labels\n",
    "df_data['name'] = filenames"
   ]
  },
  {
   "cell_type": "code",
   "execution_count": 35,
   "metadata": {},
   "outputs": [],
   "source": [
    "y = torch.Tensor(labels)\n",
    "x = filenames"
   ]
  },
  {
   "cell_type": "code",
   "execution_count": 38,
   "metadata": {},
   "outputs": [
    {
     "data": {
      "text/plain": [
       "tensor(1., device='cuda:0')"
      ]
     },
     "execution_count": 38,
     "metadata": {},
     "output_type": "execute_result"
    }
   ],
   "source": [
    "y[0].to('cuda')"
   ]
  },
  {
   "cell_type": "code",
   "execution_count": 32,
   "metadata": {},
   "outputs": [
    {
     "data": {
      "text/plain": [
       "198"
      ]
     },
     "execution_count": 32,
     "metadata": {},
     "output_type": "execute_result"
    }
   ],
   "source": [
    "len(x)"
   ]
  },
  {
   "cell_type": "code",
   "execution_count": 25,
   "metadata": {},
   "outputs": [],
   "source": [
    "\n",
    "x_train, x_test, y_train,  y_test = train_test_split(x, y,  test_size= 0.25)\n"
   ]
  },
  {
   "cell_type": "code",
   "execution_count": 26,
   "metadata": {},
   "outputs": [],
   "source": [
    "basepath = \"/data0/AI_SAMPLES/AI_SAMPLES_18DEC2022\"\n",
    "\n",
    "train_dataset = MRIDataset(basepath ,x_train, y_train, 'DTI', 'fdt_paths_vol0.nii.gz', transform=None)\n",
    "test_dataset = MRIDataset(basepath ,x_test, y_test, 'DTI', 'fdt_paths_vol0.nii.gz', transform=None)\n"
   ]
  },
  {
   "cell_type": "code",
   "execution_count": 27,
   "metadata": {},
   "outputs": [],
   "source": [
    "batch_size = 2\n",
    "num_workers = 0\n",
    "\n",
    "train_loader = DataLoader(\n",
    "    train_dataset, \n",
    "    batch_size= batch_size, \n",
    "    drop_last=True,\n",
    "    shuffle =True,\n",
    "    num_workers=num_workers,\n",
    "    pin_memory = True)\n",
    "\n",
    "val_loader = DataLoader(\n",
    "    test_dataset, \n",
    "    batch_size= batch_size, \n",
    "    drop_last=False,\n",
    "    shuffle =False,\n",
    "    num_workers=num_workers,\n",
    "    pin_memory = True)\n"
   ]
  },
  {
   "cell_type": "code",
   "execution_count": 28,
   "metadata": {},
   "outputs": [],
   "source": [
    "model = C3D()"
   ]
  },
  {
   "cell_type": "code",
   "execution_count": 29,
   "metadata": {},
   "outputs": [],
   "source": [
    "for img, label in train_loader:\n",
    "    pred = model(img)\n",
    "    break"
   ]
  },
  {
   "cell_type": "code",
   "execution_count": 11,
   "metadata": {},
   "outputs": [
    {
     "data": {
      "text/plain": [
       "tensor([[0.5956, 0.4957, 0.4121],\n",
       "        [0.5534, 0.5574, 0.4805]], grad_fn=<SigmoidBackward0>)"
      ]
     },
     "execution_count": 11,
     "metadata": {},
     "output_type": "execute_result"
    }
   ],
   "source": [
    "pred"
   ]
  },
  {
   "cell_type": "code",
   "execution_count": 10,
   "metadata": {},
   "outputs": [],
   "source": [
    "import torch.nn as nn"
   ]
  },
  {
   "cell_type": "code",
   "execution_count": 12,
   "metadata": {},
   "outputs": [],
   "source": [
    "loss = nn.CrossEntropyLoss()"
   ]
  },
  {
   "cell_type": "code",
   "execution_count": 21,
   "metadata": {},
   "outputs": [
    {
     "data": {
      "text/plain": [
       "tensor([2, 0])"
      ]
     },
     "execution_count": 21,
     "metadata": {},
     "output_type": "execute_result"
    }
   ],
   "source": [
    "label"
   ]
  },
  {
   "cell_type": "code",
   "execution_count": 23,
   "metadata": {},
   "outputs": [
    {
     "data": {
      "text/plain": [
       "tensor([[-0.5796,  0.0397, -0.1379],\n",
       "        [-0.1161, -0.3968,  0.1287]], grad_fn=<AddmmBackward0>)"
      ]
     },
     "execution_count": 23,
     "metadata": {},
     "output_type": "execute_result"
    }
   ],
   "source": [
    "pred"
   ]
  },
  {
   "cell_type": "code",
   "execution_count": 22,
   "metadata": {},
   "outputs": [
    {
     "data": {
      "text/plain": [
       "tensor(1.0494, grad_fn=<NllLossBackward0>)"
      ]
     },
     "execution_count": 22,
     "metadata": {},
     "output_type": "execute_result"
    }
   ],
   "source": [
    "loss(pred, label)"
   ]
  },
  {
   "cell_type": "code",
   "execution_count": 23,
   "metadata": {},
   "outputs": [
    {
     "data": {
      "text/plain": [
       "tensor([2, 0])"
      ]
     },
     "execution_count": 23,
     "metadata": {},
     "output_type": "execute_result"
    }
   ],
   "source": [
    "label"
   ]
  }
 ],
 "metadata": {
  "kernelspec": {
   "display_name": "Python 3",
   "language": "python",
   "name": "python3"
  },
  "language_info": {
   "codemirror_mode": {
    "name": "ipython",
    "version": 3
   },
   "file_extension": ".py",
   "mimetype": "text/x-python",
   "name": "python",
   "nbconvert_exporter": "python",
   "pygments_lexer": "ipython3",
   "version": "3.9.13"
  },
  "vscode": {
   "interpreter": {
    "hash": "6d6269005ab49693751c4ba038475ec88657905e88a8e7b2eceea62ad520b70f"
   }
  }
 },
 "nbformat": 4,
 "nbformat_minor": 4
}
