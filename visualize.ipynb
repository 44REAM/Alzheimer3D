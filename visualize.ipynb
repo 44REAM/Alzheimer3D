{
 "cells": [
  {
   "cell_type": "code",
   "execution_count": 1,
   "id": "90f1ce4f",
   "metadata": {},
   "outputs": [],
   "source": [
    "import os\n",
    "\n",
    "import numpy as np\n",
    "import matplotlib.pyplot as plt\n",
    "import seaborn as sns\n",
    "import pandas as pd\n",
    "import SimpleITK as sitk\n",
    "from scipy.ndimage import zoom\n",
    "from sklearn.model_selection import train_test_split\n",
    "from torch.utils.data import DataLoader\n",
    "from torch.utils.tensorboard import SummaryWriter\n",
    "import torch\n",
    "import torch.nn as nn\n",
    "\n",
    "from dataset import MRIDataset, get_loader\n",
    "from models import C3D\n",
    "from train import epoch_iter, add_metrics"
   ]
  },
  {
   "cell_type": "code",
   "execution_count": null,
   "id": "1359cf21-0414-4ace-aaff-2cb3017040d3",
   "metadata": {},
   "outputs": [],
   "source": [
    "basepath = \"/data1/TBM/ttest_24FEB2023/data\"\n",
    "csvpath = '/data1/TBM/data_for_AI/subjects_info/final_TBM_subjects_info.csv'\n",
    "modality = \"T2s\"\n",
    "use_file = \"R2S.nii\""
   ]
  },
  {
   "cell_type": "code",
   "execution_count": 2,
   "id": "60da6316-e11a-4b6f-a478-f84ee71d3011",
   "metadata": {},
   "outputs": [],
   "source": [
    "df_data = pd.read_csv(csvpath)\n",
    "\n",
    "filenames = []\n",
    "labels_data = []\n",
    "\n",
    "mean_data = []\n",
    "var_data = []\n",
    "\n",
    "for name, label in zip(df_data.label_id, df_data['label']):\n",
    "\n",
    "    if label.lower() == 'mci':\n",
    "        category = 1\n",
    "        fdt_paths_path = os.path.join(basepath, 'MCI',name, modality, use_file)\n",
    "    elif label.lower() == 'normal':\n",
    "        category = 0\n",
    "        fdt_paths_path = os.path.join(basepath, 'Normal',name, modality, use_file)\n",
    "    elif label.lower() == 'mmd':\n",
    "        category = 2\n",
    "        fdt_paths_path = os.path.join(basepath, 'AD',name, modality, use_file)\n",
    "    else:\n",
    "        raise ValueError(f\"No label name {label}\")\n",
    "        \n",
    "#     img = sitk.ReadImage(fdt_paths_path)\n",
    "#     img_array = sitk.GetArrayFromImage( img)\n",
    "\n",
    "#     if img_array.shape[0] != 28 or img_array.shape[1] != 256 or img_array.shape[2] != 256:\n",
    "#         print(img_array.shape)\n",
    "#         continue\n",
    "    try:\n",
    "        img = sitk.ReadImage(fdt_paths_path)\n",
    "        img_array = sitk.GetArrayFromImage( img)\n",
    "        \n",
    "        if img_array.shape[0] != 28 or img_array.shape[1] != 256 or img_array.shape[2] != 256:\n",
    "            print(img_array.shape)\n",
    "            continue\n",
    "    except:\n",
    "        print(name)\n",
    "        continue\n",
    "    labels_data.append(category)\n",
    "    filenames.append(fdt_paths_path)\n",
    "    \n",
    "    mean_img_array = img_array[img_array>0].mean()\n",
    "    var_img_array = img_array[img_array>0].var()\n",
    "    \n",
    "    mean_data.append(mean_img_array)\n",
    "    var_data.append(var_img_array)\n",
    "    \n",
    "assert len(labels_data) == len(filenames)\n",
    "\n",
    "mean_data = np.mean(mean_data)\n",
    "std_data = np.sqrt(np.mean(var_data))\n",
    "\n",
    "train_loader, val_loader = get_loader(filenames, labels_data, mean_data, std_data, batch_size = 8)\n"
   ]
  },
  {
   "cell_type": "code",
   "execution_count": null,
   "id": "47bd2fb0-e0c2-4dbc-b8fd-51a8e2e847b2",
   "metadata": {},
   "outputs": [],
   "source": [
    "imgs  = []\n",
    "labels_img = []\n",
    "for img_train, label in train_loader:\n",
    "    imgs.extend(img_train.detach().cpu().tolist())\n",
    "    labels_img.extend(label.detach().cpu().tolist())\n",
    "labels_img = np.array(labels_img) \n",
    "imgs = np.array(imgs)"
   ]
  },
  {
   "cell_type": "code",
   "execution_count": null,
   "id": "f2b90c0c-7974-4332-bfc9-5b4f0a8f4ea9",
   "metadata": {},
   "outputs": [],
   "source": [
    "imgs_normal = imgs[labels_img == 0]\n",
    "# imgs_normal = imgs_normal.mean(axis = 0)\n",
    "imgs_normal = imgs_normal[imgs_normal> -0.63]\n",
    "imgs_normal = imgs_normal.reshape((-1))\n",
    "imgs_d = imgs[labels_img == 1]\n",
    "# imgs_d = imgs_d.mean(axis = 0)\n",
    "imgs_d = imgs_d[imgs_d> -0.63]\n",
    "imgs_d = imgs_d.reshape((-1))"
   ]
  },
  {
   "cell_type": "code",
   "execution_count": null,
   "id": "f1cec875-7d42-4686-b734-5e24f5ef3936",
   "metadata": {},
   "outputs": [],
   "source": [
    "_ = plt.hist(imgs_d[:4000000], bins=1000, density=True)\n",
    "plt.ylim((0,1))"
   ]
  },
  {
   "cell_type": "code",
   "execution_count": null,
   "id": "b47e6346-4eff-4a53-b103-d5dc64639f88",
   "metadata": {},
   "outputs": [],
   "source": [
    "_ = plt.hist(imgs_normal[:4000000], bins=1000, density=True)\n",
    "plt.ylim((0,1))"
   ]
  }
 ],
 "metadata": {
  "kernelspec": {
   "display_name": "Python 3",
   "language": "python",
   "name": "python3"
  },
  "language_info": {
   "codemirror_mode": {
    "name": "ipython",
    "version": 3
   },
   "file_extension": ".py",
   "mimetype": "text/x-python",
   "name": "python",
   "nbconvert_exporter": "python",
   "pygments_lexer": "ipython3",
   "version": "3.9.13"
  },
  "vscode": {
   "interpreter": {
    "hash": "6d6269005ab49693751c4ba038475ec88657905e88a8e7b2eceea62ad520b70f"
   }
  }
 },
 "nbformat": 4,
 "nbformat_minor": 5
}
